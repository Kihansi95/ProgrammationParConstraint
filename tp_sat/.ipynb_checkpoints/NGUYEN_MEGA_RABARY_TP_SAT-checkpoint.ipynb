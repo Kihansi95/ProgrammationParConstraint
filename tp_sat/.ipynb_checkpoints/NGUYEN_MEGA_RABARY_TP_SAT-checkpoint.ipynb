{
 "cells": [
  {
   "cell_type": "markdown",
   "metadata": {},
   "source": [
    "# TP Scheduling with SAT\n",
    "\n",
    "### Trinôme : Adrian - Duc - Anais"
   ]
  },
  {
   "cell_type": "code",
   "execution_count": 1,
   "metadata": {},
   "outputs": [],
   "source": [
    "from satire import *\n",
    "#import numpy as np "
   ]
  },
  {
   "cell_type": "code",
   "execution_count": 2,
   "metadata": {},
   "outputs": [],
   "source": [
    "# paramètre\n",
    "debug = True"
   ]
  },
  {
   "cell_type": "markdown",
   "metadata": {},
   "source": [
    "* Implement a function in python encodeDomain (a, b) that encodes a do-main [a, b] using the order encoding."
   ]
  },
  {
   "cell_type": "code",
   "execution_count": 3,
   "metadata": {},
   "outputs": [],
   "source": [
    "def encodeDomain(a, b):\n",
    "    assert a <= b\n",
    "    n = b - a + 1  # nb variable\n",
    "    nb_clause = (n*(n-1))/2 + 1\n",
    "    \n",
    "    clauses = ['']\n",
    "    \n",
    "    for i in range(1, n+1):\n",
    "        \n",
    "        clauses[0] += str(i) + ' '\n",
    "        \n",
    "        for j in range(i+1, n+1):\n",
    "            clauses.append(str(-i) + ' ' + str(-j))\n",
    "            \n",
    "    if debug:\n",
    "        print('p cnf ' + str(n) + ' ' + str(nb_clause))\n",
    "        for c in clauses:\n",
    "            print(c)\n",
    "            \n",
    "    with open(\"encodeDomain.cnf\",\"w\")  as _out:\n",
    "        _out.write('p cnf ' + str(n) + ' ' + str(nb_clause) + '\\n')\n",
    "        \n",
    "        for c in clauses:\n",
    "            _out.write(c + '\\n')"
   ]
  },
  {
   "cell_type": "markdown",
   "metadata": {},
   "source": [
    "Testing "
   ]
  },
  {
   "cell_type": "code",
   "execution_count": 6,
   "metadata": {},
   "outputs": [
    {
     "name": "stdout",
     "output_type": "stream",
     "text": [
      "p cnf 5 11\n",
      "1 2 3 4 5 \n",
      "-1 -2\n",
      "-1 -3\n",
      "-1 -4\n",
      "-1 -5\n",
      "-2 -3\n",
      "-2 -4\n",
      "-2 -5\n",
      "-3 -4\n",
      "-3 -5\n",
      "-4 -5\n",
      " infer -1 (reason=None) [0]\n",
      " infer -1 (reason=None) [0]\n",
      " infer -1 (reason=None) [0]\n",
      " infer -1 (reason=None) [0]\n",
      " infer -2 (reason=None) [0]\n",
      " infer -2 (reason=None) [0]\n",
      " infer -2 (reason=None) [0]\n",
      " infer -3 (reason=None) [0]\n",
      " infer -3 (reason=None) [0]\n",
      " infer -4 (reason=None) [0]\n",
      "restart with limit = 100 -- number of conflicts = 0 -- cpu time = 11\n",
      " -1 -2 -3 -4 -5 -6 -7 -8\n",
      "0\n"
     ]
    }
   ],
   "source": [
    "encodeDomain(1,5)\n",
    "solver = Solver()\n",
    "solver.readDimacs('encodeDomain.cnf')\n",
    "outcome = solver.restartSearch()"
   ]
  },
  {
   "cell_type": "code",
   "execution_count": null,
   "metadata": {},
   "outputs": [],
   "source": [
    "def orderingEncodeDomain(a, b):\n",
    "    assert a <= b\n",
    "    n = b - a + 1  # nb variable\n",
    "    nb_clause = (n*(n-1))/2 + 1\n",
    "    \n",
    "    # todo"
   ]
  },
  {
   "cell_type": "markdown",
   "metadata": {},
   "source": [
    "* Let X and Y be two integer variables with a domain equal to [a, b] where a < b ∈ N∗. Implement a function encodeLess(a, b)  that  encodes  the constraint X≤Y."
   ]
  },
  {
   "cell_type": "code",
   "execution_count": 30,
   "metadata": {},
   "outputs": [],
   "source": [
    "def encodeLess(a, b):\n",
    "    assert a <= b\n",
    "    n = (b - a + 1) \n",
    "    nb_variable = n*2\n",
    "    nb_clause = 2*n\n",
    "    \n",
    "    X = []\n",
    "    Y = []\n",
    "    clauses = [''] * n * 2\n",
    "    \n",
    "        \n",
    "    # Regroup variables \n",
    "    for i in range(n):\n",
    "        X.append(i + 1)\n",
    "        Y.append(i + 1 + n)\n",
    "    \n",
    "    for i in range(n-1):\n",
    "        clauses[i] =  str(-X[i]) + ' ' + str(X[(i+1)])\n",
    "        clauses[i + n] = str(-Y[i]) + ' ' + str(Y[(i+1)])\n",
    "        \n",
    "    for c in clauses:\n",
    "        print(c)"
   ]
  },
  {
   "cell_type": "code",
   "execution_count": 31,
   "metadata": {},
   "outputs": [
    {
     "name": "stdout",
     "output_type": "stream",
     "text": [
      "-1 2\n",
      "-2 3\n",
      "-3 4\n",
      "-4 5\n",
      "\n",
      "-6 7\n",
      "-7 8\n",
      "-8 9\n",
      "-9 10\n",
      "\n"
     ]
    }
   ],
   "source": [
    "encodeLess(1,3)"
   ]
  },
  {
   "cell_type": "code",
   "execution_count": null,
   "metadata": {},
   "outputs": [],
   "source": []
  },
  {
   "cell_type": "code",
   "execution_count": 5,
   "metadata": {},
   "outputs": [
    {
     "ename": "IOError",
     "evalue": "[Errno 2] No such file or directory: 'encodingDomain.cnf'",
     "output_type": "error",
     "traceback": [
      "\u001b[0;31m---------------------------------------------------------------------------\u001b[0m",
      "\u001b[0;31mIOError\u001b[0m                                   Traceback (most recent call last)",
      "\u001b[0;32m<ipython-input-5-cb6cf5f47b1c>\u001b[0m in \u001b[0;36m<module>\u001b[0;34m()\u001b[0m\n\u001b[1;32m      1\u001b[0m \u001b[0msolver\u001b[0m \u001b[0;34m=\u001b[0m \u001b[0mSolver\u001b[0m\u001b[0;34m(\u001b[0m\u001b[0;34m)\u001b[0m\u001b[0;34m\u001b[0m\u001b[0m\n\u001b[0;32m----> 2\u001b[0;31m \u001b[0msolver\u001b[0m\u001b[0;34m.\u001b[0m\u001b[0mreadDimacs\u001b[0m\u001b[0;34m(\u001b[0m\u001b[0;34m'encodingDomain.cnf'\u001b[0m\u001b[0;34m)\u001b[0m\u001b[0;34m\u001b[0m\u001b[0m\n\u001b[0m\u001b[1;32m      3\u001b[0m \u001b[0moutcome\u001b[0m \u001b[0;34m=\u001b[0m \u001b[0msolver\u001b[0m\u001b[0;34m.\u001b[0m\u001b[0mrestartSearch\u001b[0m\u001b[0;34m(\u001b[0m\u001b[0;34m)\u001b[0m\u001b[0;34m\u001b[0m\u001b[0m\n\u001b[1;32m      4\u001b[0m \u001b[0;34m\u001b[0m\u001b[0m\n\u001b[1;32m      5\u001b[0m \u001b[0;32mprint\u001b[0m \u001b[0;34m'Satisfiable'\u001b[0m \u001b[0;32mif\u001b[0m \u001b[0moutcome\u001b[0m \u001b[0;34m==\u001b[0m \u001b[0mTRUE\u001b[0m \u001b[0;32melse\u001b[0m \u001b[0;34m'Unsatisfiable'\u001b[0m \u001b[0;32mif\u001b[0m \u001b[0moutcome\u001b[0m \u001b[0;34m==\u001b[0m \u001b[0mFALSE\u001b[0m \u001b[0;32melse\u001b[0m \u001b[0;34m'Unknown'\u001b[0m\u001b[0;34m\u001b[0m\u001b[0m\n",
      "\u001b[0;32m/home/dhnguye1/Documents/5A/PPC/tp_sat/satire/__init__.pyc\u001b[0m in \u001b[0;36mreadDimacs\u001b[0;34m(self, filename)\u001b[0m\n\u001b[1;32m    357\u001b[0m         \"\"\"\n\u001b[1;32m    358\u001b[0m         \u001b[0mself\u001b[0m\u001b[0;34m.\u001b[0m\u001b[0mcomments\u001b[0m \u001b[0;34m=\u001b[0m \u001b[0;34m[\u001b[0m\u001b[0;34m]\u001b[0m\u001b[0;34m\u001b[0m\u001b[0m\n\u001b[0;32m--> 359\u001b[0;31m         \u001b[0mcnffile\u001b[0m \u001b[0;34m=\u001b[0m \u001b[0mopen\u001b[0m\u001b[0;34m(\u001b[0m\u001b[0mfilename\u001b[0m\u001b[0;34m,\u001b[0m \u001b[0;34m'r'\u001b[0m\u001b[0;34m)\u001b[0m\u001b[0;34m\u001b[0m\u001b[0m\n\u001b[0m\u001b[1;32m    360\u001b[0m         \u001b[0mnum_cl\u001b[0m \u001b[0;34m=\u001b[0m \u001b[0;36m0\u001b[0m\u001b[0;34m\u001b[0m\u001b[0m\n\u001b[1;32m    361\u001b[0m         \u001b[0;32mfor\u001b[0m \u001b[0mline\u001b[0m \u001b[0;32min\u001b[0m \u001b[0mcnffile\u001b[0m\u001b[0;34m:\u001b[0m\u001b[0;34m\u001b[0m\u001b[0m\n",
      "\u001b[0;31mIOError\u001b[0m: [Errno 2] No such file or directory: 'encodingDomain.cnf'"
     ]
    }
   ],
   "source": [
    "solver = Solver()\n",
    "#solver.readDimacs('encodingDomain.cnf')\n",
    "outcome = solver.restartSearch()\n",
    "    \n",
    "print 'Satisfiable' if outcome == TRUE else 'Unsatisfiable' if outcome == FALSE else 'Unknown'\n",
    "print solver.getStatistics()"
   ]
  }
 ],
 "metadata": {
  "kernelspec": {
   "display_name": "Python 2",
   "language": "python",
   "name": "python2"
  },
  "language_info": {
   "codemirror_mode": {
    "name": "ipython",
    "version": 2
   },
   "file_extension": ".py",
   "mimetype": "text/x-python",
   "name": "python",
   "nbconvert_exporter": "python",
   "pygments_lexer": "ipython2",
   "version": "2.7.15"
  }
 },
 "nbformat": 4,
 "nbformat_minor": 2
}
